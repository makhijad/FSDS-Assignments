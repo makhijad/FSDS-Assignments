{
 "cells": [
  {
   "cell_type": "code",
   "execution_count": 1,
   "id": "09d61152",
   "metadata": {},
   "outputs": [],
   "source": [
    "# Q1.What are the two values of the Boolean data type? How do you write them?\n",
    "\n",
    "# Ans: There are two Boolean values: True and False. \n",
    "    #  Values in Python can be compared using comparison operations. for ex. -344, -21"
   ]
  },
  {
   "cell_type": "code",
   "execution_count": 2,
   "id": "f18d63db",
   "metadata": {},
   "outputs": [],
   "source": []
  },
  {
   "cell_type": "code",
   "execution_count": 3,
   "id": "ad50d760",
   "metadata": {},
   "outputs": [],
   "source": [
    "# Q2. What are the three different types of Boolean operators?\n",
    "\n",
    "# Ans: The three different boolean operators are: AND, OR and NOT."
   ]
  },
  {
   "cell_type": "code",
   "execution_count": null,
   "id": "a84ae1ba",
   "metadata": {},
   "outputs": [],
   "source": []
  },
  {
   "cell_type": "code",
   "execution_count": null,
   "id": "63e332ad",
   "metadata": {},
   "outputs": [],
   "source": [
    "# Q3. Make a list of each Boolean operators truth tables(i.e. every possible combination of Boolean values for the operator and what it evaluate)\n",
    "\n",
    "# Ans: \n",
    "\n",
    "True and True is True.\n",
    "\n",
    "True and False is False.\n",
    "\n",
    "False and True is False.\n",
    "\n",
    "False and False is False.\n",
    "\n",
    "True or True is True.\n",
    "\n",
    "True or False is True.\n",
    "\n",
    "False or True is True.\n",
    "\n",
    "False or False is False.\n",
    "\n",
    "not True is False.\n",
    "\n",
    "not False is True."
   ]
  },
  {
   "cell_type": "code",
   "execution_count": null,
   "id": "77b48093",
   "metadata": {},
   "outputs": [],
   "source": []
  },
  {
   "cell_type": "code",
   "execution_count": null,
   "id": "a7bd6a80",
   "metadata": {},
   "outputs": [],
   "source": [
    "# Q5. What are the six comparison operators?\n",
    "\n",
    "There are six main comparison operators: =, !=, >, >=, <, <=\n",
    "    equal to, not equal to, greater than, greater than or equal to, less than, and less than or equal to.."
   ]
  },
  {
   "cell_type": "code",
   "execution_count": null,
   "id": "95c0acfa",
   "metadata": {},
   "outputs": [],
   "source": []
  },
  {
   "cell_type": "code",
   "execution_count": 39,
   "id": "5e4f6a02",
   "metadata": {},
   "outputs": [
    {
     "name": "stdout",
     "output_type": "stream",
     "text": [
      "enter number:4\n",
      "sun\n"
     ]
    }
   ],
   "source": [
    "# Q6. How do you tell the difference between the equal to and assignment operators? Describe a condition and when you would use one.\n",
    "\n",
    "Equal to operator is == It is used for comparing two values. It returns 1 if both the values are equal otherwise returns 0.\n",
    "Assignment operator is = It is used for assigning the value to a variable.\n",
    "    \n",
    "for ex.\n",
    "\n",
    "a=int(input(\"enter number:\"))\n",
    "if a == 4:\n",
    "    print(\"sun\")\n",
    "else:\n",
    "    print(\"moon\")\n",
    "            "
   ]
  },
  {
   "cell_type": "code",
   "execution_count": null,
   "id": "34f99fb5",
   "metadata": {},
   "outputs": [],
   "source": []
  },
  {
   "cell_type": "code",
   "execution_count": 43,
   "id": "d0717901",
   "metadata": {},
   "outputs": [
    {
     "name": "stdout",
     "output_type": "stream",
     "text": [
      "ham\n",
      "spam\n",
      "spam\n"
     ]
    }
   ],
   "source": [
    "# Q7. Identify the three blocks in this code:\n",
    "\n",
    "spam=2\n",
    "if spam==10:\n",
    "    print('eggs')\n",
    "    \n",
    "elif spam > 5:\n",
    "    print('bacons')\n",
    "    \n",
    "else:\n",
    "    print(\"ham\")\n",
    "    print('spam')\n",
    "    print('spam')"
   ]
  },
  {
   "cell_type": "code",
   "execution_count": 17,
   "id": "7a39aab4",
   "metadata": {},
   "outputs": [
    {
     "name": "stdout",
     "output_type": "stream",
     "text": [
      "enter number:1\n",
      "Hello\n"
     ]
    }
   ],
   "source": [
    "# 8. Write code that prints Hello if 1 is stored in spam, prints Howdy if 2 is stored in spam, and prints Greetings! if anything else is stored in spam.\n",
    "\n",
    "\n",
    "spam=int(input(\"enter number:\"))\n",
    "if spam==1:\n",
    "    print(\"Hello\")\n",
    "    \n",
    "elif spam==2:\n",
    "    print(\"Howdy\")\n",
    "    \n",
    "else:\n",
    "    print(\"Greetings!\")"
   ]
  },
  {
   "cell_type": "code",
   "execution_count": null,
   "id": "5f376a5f",
   "metadata": {},
   "outputs": [],
   "source": []
  },
  {
   "cell_type": "code",
   "execution_count": null,
   "id": "66d02e8a",
   "metadata": {},
   "outputs": [],
   "source": [
    "# Q9.If your programme is stuck in an endless loop, what keys you’ll press?\n",
    "\n",
    "Use CTRL-C to stop a program stuck in an endless loop."
   ]
  },
  {
   "cell_type": "code",
   "execution_count": null,
   "id": "ddcf3894",
   "metadata": {},
   "outputs": [],
   "source": []
  },
  {
   "cell_type": "code",
   "execution_count": null,
   "id": "eb04e005",
   "metadata": {},
   "outputs": [],
   "source": [
    "# Q10. How can you tell the difference between break and continue?\n",
    "\n",
    "The break statement will break the execution of loop &\n",
    "The continue statement will move the execution to the start of the loop."
   ]
  },
  {
   "cell_type": "code",
   "execution_count": null,
   "id": "f72c2c5d",
   "metadata": {},
   "outputs": [],
   "source": []
  },
  {
   "cell_type": "code",
   "execution_count": null,
   "id": "1cde5e50",
   "metadata": {},
   "outputs": [],
   "source": [
    "# Q11. In a for loop, what is the difference between range(10), range(0, 10), and range(0, 10, 1)?\n",
    "\n",
    "There is no difference between these range functions as this all will give the same output.. \n",
    "This function will print numbers from 0 to 10 excluding 10"
   ]
  },
  {
   "cell_type": "code",
   "execution_count": null,
   "id": "fab8bbec",
   "metadata": {},
   "outputs": [],
   "source": []
  },
  {
   "cell_type": "code",
   "execution_count": 25,
   "id": "e8985331",
   "metadata": {},
   "outputs": [
    {
     "name": "stdout",
     "output_type": "stream",
     "text": [
      "1\n",
      "2\n",
      "3\n",
      "4\n",
      "5\n",
      "6\n",
      "7\n",
      "8\n",
      "9\n",
      "10\n"
     ]
    }
   ],
   "source": [
    "# 12. Write a short program that prints the numbers 1 to 10 using a for loop. Then write an equivalent program that prints the numbers 1 to 10 using a while loop.\n",
    "\n",
    "for i in range(1,11):\n",
    "    print(i)"
   ]
  },
  {
   "cell_type": "code",
   "execution_count": 26,
   "id": "08dbef58",
   "metadata": {},
   "outputs": [
    {
     "name": "stdout",
     "output_type": "stream",
     "text": [
      "1\n",
      "2\n",
      "3\n",
      "4\n",
      "5\n",
      "6\n",
      "7\n",
      "8\n",
      "9\n",
      "10\n"
     ]
    }
   ],
   "source": [
    "# prints the numbers 1 to 10 using a while loop.\n",
    "\n",
    "w=1\n",
    "while(w<=10):\n",
    "    print(w)\n",
    "    w=w+1"
   ]
  },
  {
   "cell_type": "code",
   "execution_count": null,
   "id": "9fc984e8",
   "metadata": {},
   "outputs": [],
   "source": []
  },
  {
   "cell_type": "code",
   "execution_count": null,
   "id": "fb289a90",
   "metadata": {},
   "outputs": [],
   "source": [
    "# Q13. If you had a function named bacon() inside a module named spam, how would you call it after importing spam?\n",
    "\n",
    "This function can be called with spam.bacon()"
   ]
  }
 ],
 "metadata": {
  "kernelspec": {
   "display_name": "Python 3 (ipykernel)",
   "language": "python",
   "name": "python3"
  },
  "language_info": {
   "codemirror_mode": {
    "name": "ipython",
    "version": 3
   },
   "file_extension": ".py",
   "mimetype": "text/x-python",
   "name": "python",
   "nbconvert_exporter": "python",
   "pygments_lexer": "ipython3",
   "version": "3.9.7"
  }
 },
 "nbformat": 4,
 "nbformat_minor": 5
}
