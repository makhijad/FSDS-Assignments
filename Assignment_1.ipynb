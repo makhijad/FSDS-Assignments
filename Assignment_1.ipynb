{
 "cells": [
  {
   "cell_type": "raw",
   "id": "5bc0d47e",
   "metadata": {},
   "source": [
    "1. In the below elements which of them are values or an expression? eg:- values can be\n",
    "integer or string and expressions will be mathematical operators.\n",
    "\n",
    "*\n",
    "\"hello\"\n",
    "-87.8\n",
    "-\n",
    "/\n",
    "+\n",
    "6 "
   ]
  },
  {
   "cell_type": "code",
   "execution_count": null,
   "id": "ffa8f906",
   "metadata": {},
   "outputs": [],
   "source": [
    "# here values are : \"hello\" , -87.8 & 6\n",
    "# Expressions are : - + / *"
   ]
  },
  {
   "cell_type": "code",
   "execution_count": null,
   "id": "46e13374",
   "metadata": {},
   "outputs": [],
   "source": []
  },
  {
   "cell_type": "raw",
   "id": "8718a5d8",
   "metadata": {},
   "source": [
    "2. What is the difference between string and variable?"
   ]
  },
  {
   "cell_type": "code",
   "execution_count": null,
   "id": "56998c0d",
   "metadata": {},
   "outputs": [],
   "source": [
    "# A Variable is a name of location in the primary memory of our computer where we can save anything from string to numbers.\n",
    "# & a String is a value inside the quotes assigned to a string. "
   ]
  },
  {
   "cell_type": "code",
   "execution_count": null,
   "id": "8814e084",
   "metadata": {},
   "outputs": [],
   "source": []
  },
  {
   "cell_type": "raw",
   "id": "b1bd60dd",
   "metadata": {},
   "source": [
    "3. Describe three different datatypes?"
   ]
  },
  {
   "cell_type": "code",
   "execution_count": null,
   "id": "dde667cf",
   "metadata": {},
   "outputs": [],
   "source": [
    "# different type of dataypes are string, integer, boolean, char, float..\n",
    "\n",
    "# 1. String is a datatype in which a vlaue is store inside the quotes assigned to a string.\n",
    "# 2. Integer is a datatype which stores the whole number like, 231, 43543, 4544, 666, 1212, etc.\n",
    "# 3. Float is a datatype composed of a number that is not an integer, because it includes a fraction represented in decimal format. for ex. 200.8, 54.9..   "
   ]
  },
  {
   "cell_type": "code",
   "execution_count": null,
   "id": "e1cc8f6f",
   "metadata": {},
   "outputs": [],
   "source": []
  },
  {
   "cell_type": "raw",
   "id": "64ae6dc0",
   "metadata": {},
   "source": [
    "4. What is an expression made up of? What do all expressions do?"
   ]
  },
  {
   "cell_type": "code",
   "execution_count": null,
   "id": "766693e3",
   "metadata": {},
   "outputs": [],
   "source": [
    "# An expression is a combination of values, variables, operators, and functions.. \n",
    "# In Python expression, the interpreter evaluates the expression and displays the result."
   ]
  },
  {
   "cell_type": "code",
   "execution_count": null,
   "id": "8e9b763c",
   "metadata": {},
   "outputs": [],
   "source": []
  },
  {
   "cell_type": "raw",
   "id": "b6dc3dfd",
   "metadata": {},
   "source": [
    "5. This assignment statements, like spam = 10. What is the difference between an\n",
    "expression and a statement?"
   ]
  },
  {
   "cell_type": "code",
   "execution_count": null,
   "id": "b8824906",
   "metadata": {},
   "outputs": [],
   "source": [
    "# An Expression is a combination of values and functions that are combined and interpreted by the compiler to create a new value. \n",
    "# & A Statement is just a standalone unit of execution and doesn't return anything."
   ]
  },
  {
   "cell_type": "code",
   "execution_count": null,
   "id": "987ada12",
   "metadata": {},
   "outputs": [],
   "source": []
  },
  {
   "cell_type": "raw",
   "id": "3c1196f8",
   "metadata": {},
   "source": [
    "6. After running the following code, what does the variable bacon contain?\n",
    "bacon = 22\n",
    "bacon + 1"
   ]
  },
  {
   "cell_type": "code",
   "execution_count": 1,
   "id": "e222f6af",
   "metadata": {},
   "outputs": [],
   "source": [
    "bacon=22"
   ]
  },
  {
   "cell_type": "code",
   "execution_count": 2,
   "id": "2a40ea9b",
   "metadata": {},
   "outputs": [
    {
     "data": {
      "text/plain": [
       "23"
      ]
     },
     "execution_count": 2,
     "metadata": {},
     "output_type": "execute_result"
    }
   ],
   "source": [
    "bacon+1     # bacon=23"
   ]
  },
  {
   "cell_type": "code",
   "execution_count": null,
   "id": "b3d86fee",
   "metadata": {},
   "outputs": [],
   "source": []
  },
  {
   "cell_type": "raw",
   "id": "a306afbc",
   "metadata": {},
   "source": [
    "7. What should the values of the following two terms be?\n",
    "spam + spamspam\n",
    "spam * 3"
   ]
  },
  {
   "cell_type": "code",
   "execution_count": 5,
   "id": "32b335db",
   "metadata": {},
   "outputs": [
    {
     "data": {
      "text/plain": [
       "'spamspamspam'"
      ]
     },
     "execution_count": 5,
     "metadata": {},
     "output_type": "execute_result"
    }
   ],
   "source": [
    "'spam'+'spamspam'"
   ]
  },
  {
   "cell_type": "code",
   "execution_count": 7,
   "id": "29f4dde6",
   "metadata": {},
   "outputs": [
    {
     "data": {
      "text/plain": [
       "'spamspamspam'"
      ]
     },
     "execution_count": 7,
     "metadata": {},
     "output_type": "execute_result"
    }
   ],
   "source": [
    "'spam' * 3"
   ]
  },
  {
   "cell_type": "code",
   "execution_count": null,
   "id": "17e386b5",
   "metadata": {},
   "outputs": [],
   "source": []
  },
  {
   "cell_type": "raw",
   "id": "c821cb23",
   "metadata": {},
   "source": [
    "8. Why is eggs a valid variable name while 100 is invalid?"
   ]
  },
  {
   "cell_type": "code",
   "execution_count": 10,
   "id": "f1f18ebc",
   "metadata": {},
   "outputs": [],
   "source": [
    "eggs=\"dhar\"      # eggs is a string datatype & string can be a variable "
   ]
  },
  {
   "cell_type": "code",
   "execution_count": 11,
   "id": "5c01c02c",
   "metadata": {},
   "outputs": [
    {
     "data": {
      "text/plain": [
       "'dhar'"
      ]
     },
     "execution_count": 11,
     "metadata": {},
     "output_type": "execute_result"
    }
   ],
   "source": [
    "eggs"
   ]
  },
  {
   "cell_type": "code",
   "execution_count": 13,
   "id": "76126f24",
   "metadata": {},
   "outputs": [
    {
     "data": {
      "text/plain": [
       "str"
      ]
     },
     "execution_count": 13,
     "metadata": {},
     "output_type": "execute_result"
    }
   ],
   "source": [
    "type(eggs)"
   ]
  },
  {
   "cell_type": "code",
   "execution_count": 12,
   "id": "1578f485",
   "metadata": {},
   "outputs": [
    {
     "ename": "SyntaxError",
     "evalue": "cannot assign to literal (Temp/ipykernel_18136/339231240.py, line 1)",
     "output_type": "error",
     "traceback": [
      "\u001b[1;36m  File \u001b[1;32m\"C:\\Users\\makhi\\AppData\\Local\\Temp/ipykernel_18136/339231240.py\"\u001b[1;36m, line \u001b[1;32m1\u001b[0m\n\u001b[1;33m    100=\"dhar\"\u001b[0m\n\u001b[1;37m    ^\u001b[0m\n\u001b[1;31mSyntaxError\u001b[0m\u001b[1;31m:\u001b[0m cannot assign to literal\n"
     ]
    }
   ],
   "source": [
    "100=\"dhar\"      # but int is not a string datatype so it cannnot be a variable "
   ]
  },
  {
   "cell_type": "code",
   "execution_count": null,
   "id": "3e9fd4f7",
   "metadata": {},
   "outputs": [],
   "source": []
  },
  {
   "cell_type": "raw",
   "id": "4f0edff1",
   "metadata": {},
   "source": [
    "9. What three functions can be used to get the integer, floating-point number, or string\n",
    "version of a value?"
   ]
  },
  {
   "cell_type": "code",
   "execution_count": null,
   "id": "c7f9bf65",
   "metadata": {},
   "outputs": [],
   "source": [
    "# The int() , float() , and str( ) functions will evaluate to the integer, floating-point number, and string versions of the value passed to them."
   ]
  },
  {
   "cell_type": "code",
   "execution_count": null,
   "id": "ed10b222",
   "metadata": {},
   "outputs": [],
   "source": []
  },
  {
   "cell_type": "raw",
   "id": "cd6095a0",
   "metadata": {},
   "source": [
    "10. Why does this expression cause an error? How can you fix it?\n",
    "'I have eaten' + 99 + 'burritos.'"
   ]
  },
  {
   "cell_type": "code",
   "execution_count": 14,
   "id": "26c9e0c4",
   "metadata": {},
   "outputs": [
    {
     "data": {
      "text/plain": [
       "'I have eaten 99 burritos.'"
      ]
     },
     "execution_count": 14,
     "metadata": {},
     "output_type": "execute_result"
    }
   ],
   "source": [
    "'I have eaten ' + '99' + ' burritos.'    # here we can put 99 in single quotes & it will be a string  "
   ]
  },
  {
   "cell_type": "code",
   "execution_count": 15,
   "id": "3c197d61",
   "metadata": {},
   "outputs": [
    {
     "data": {
      "text/plain": [
       "'I have eaten 99 burritos.'"
      ]
     },
     "execution_count": 15,
     "metadata": {},
     "output_type": "execute_result"
    }
   ],
   "source": [
    "'I have eaten ' + str(99) + ' burritos.'   # here we can use str function for 99 as it will convert int input into str output."
   ]
  },
  {
   "cell_type": "code",
   "execution_count": 19,
   "id": "4302ffd9",
   "metadata": {},
   "outputs": [],
   "source": []
  },
  {
   "cell_type": "code",
   "execution_count": null,
   "id": "8c781c90",
   "metadata": {},
   "outputs": [],
   "source": []
  }
 ],
 "metadata": {
  "kernelspec": {
   "display_name": "Python 3 (ipykernel)",
   "language": "python",
   "name": "python3"
  },
  "language_info": {
   "codemirror_mode": {
    "name": "ipython",
    "version": 3
   },
   "file_extension": ".py",
   "mimetype": "text/x-python",
   "name": "python",
   "nbconvert_exporter": "python",
   "pygments_lexer": "ipython3",
   "version": "3.9.7"
  }
 },
 "nbformat": 4,
 "nbformat_minor": 5
}
