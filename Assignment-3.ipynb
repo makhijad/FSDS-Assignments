{
 "cells": [
  {
   "cell_type": "markdown",
   "id": "d8dd1087",
   "metadata": {},
   "source": [
    "# Assignment - 3"
   ]
  },
  {
   "cell_type": "code",
   "execution_count": null,
   "id": "97ecd5dc",
   "metadata": {},
   "outputs": [],
   "source": []
  },
  {
   "cell_type": "code",
   "execution_count": null,
   "id": "60154bfc",
   "metadata": {},
   "outputs": [],
   "source": [
    "# Q1. Why are functions advantageous to have in your programs?\n",
    "\n",
    " Functions reduce the need for duplicate code. This makes programs shorter, easier to read, and easier to update."
   ]
  },
  {
   "cell_type": "code",
   "execution_count": null,
   "id": "f0d5de91",
   "metadata": {},
   "outputs": [],
   "source": [
    "# Q2. When does the code in a function run: when it's specified or when it's called?\n",
    "\n",
    " The code in a function runs when it is called.."
   ]
  },
  {
   "cell_type": "code",
   "execution_count": null,
   "id": "56316c02",
   "metadata": {},
   "outputs": [],
   "source": [
    "# Q3. What statement creates a function?\n",
    "\n",
    "The def statement defines/creates a function."
   ]
  },
  {
   "cell_type": "code",
   "execution_count": null,
   "id": "00850bf1",
   "metadata": {},
   "outputs": [],
   "source": [
    "# Q4. What is the difference between a function and a function call?\n",
    "\n",
    "A function is a block of code that does a particular operation and returns a result. \n",
    "It usually accepts inputs as parameters and returns a result..\n",
    "\n",
    " A function call is an expression containing the function name followed by the function call operator () "
   ]
  },
  {
   "cell_type": "code",
   "execution_count": null,
   "id": "29853617",
   "metadata": {},
   "outputs": [],
   "source": [
    "# Q5. How many global scopes are there in a Python program? How many local scopes?\n",
    "\n",
    "There is one global scope, and a local scope is created whenever a function is called."
   ]
  },
  {
   "cell_type": "code",
   "execution_count": null,
   "id": "b2e40f3f",
   "metadata": {},
   "outputs": [],
   "source": [
    "# Q6. What happens to variables in a local scope when the function call returns?\n",
    "\n",
    "When a function returns, the local scope is destroyed, and all the variables in it are forgotten."
   ]
  },
  {
   "cell_type": "code",
   "execution_count": null,
   "id": "7990a2c3",
   "metadata": {},
   "outputs": [],
   "source": [
    "# Q7. What is the concept of a return value? Is it possible to have a return value in an expression?\n",
    "\n",
    "A return value is the value that a function call evaluates to. \n",
    "Like any value, a return value can be used as part of an expression"
   ]
  },
  {
   "cell_type": "code",
   "execution_count": null,
   "id": "09fb16a6",
   "metadata": {},
   "outputs": [],
   "source": [
    "# Q8. If a function does not have a return statement, what is the return value of a call to that function?\n",
    "\n",
    "If there is no return statement for a function, its return value is None."
   ]
  },
  {
   "cell_type": "code",
   "execution_count": null,
   "id": "2d85bd54",
   "metadata": {},
   "outputs": [],
   "source": [
    "# Q9. How do you make a function variable refer to the global variable?\n",
    "\n",
    "A global statement will force a variable in a function to refer to the global variable."
   ]
  },
  {
   "cell_type": "code",
   "execution_count": null,
   "id": "1cec2fa3",
   "metadata": {},
   "outputs": [],
   "source": [
    "# Q10. What is the data type of None?\n",
    "\n",
    "datatype of None is NoneType."
   ]
  },
  {
   "cell_type": "code",
   "execution_count": null,
   "id": "94d031b2",
   "metadata": {},
   "outputs": [],
   "source": [
    "# Q11. What does the sentence import areallyourpetsnamederic do?\n",
    "\n"
   ]
  },
  {
   "cell_type": "code",
   "execution_count": null,
   "id": "b4d82ab5",
   "metadata": {},
   "outputs": [],
   "source": [
    "# Q12. If you had a bacon() feature in a spam module, what would you call it after importing spam?\n",
    "\n",
    "This function can be called with spam.bacon()"
   ]
  },
  {
   "cell_type": "code",
   "execution_count": null,
   "id": "47eadb38",
   "metadata": {},
   "outputs": [],
   "source": [
    "# Q13. What can you do to save a programme from crashing if it encounters an error?\n",
    "\n",
    "Place the line of code in a try clause that might cause an error."
   ]
  },
  {
   "cell_type": "code",
   "execution_count": null,
   "id": "939880f2",
   "metadata": {},
   "outputs": [],
   "source": [
    "# Q14. What is the purpose of the try clause? What is the purpose of the except clause?\n",
    "\n",
    "The code that could that can cause an error goes in the try clause.\n",
    "\n",
    "The code that executes if an error happens goes in the except clause."
   ]
  },
  {
   "cell_type": "code",
   "execution_count": null,
   "id": "6832c165",
   "metadata": {},
   "outputs": [],
   "source": []
  }
 ],
 "metadata": {
  "kernelspec": {
   "display_name": "Python 3 (ipykernel)",
   "language": "python",
   "name": "python3"
  },
  "language_info": {
   "codemirror_mode": {
    "name": "ipython",
    "version": 3
   },
   "file_extension": ".py",
   "mimetype": "text/x-python",
   "name": "python",
   "nbconvert_exporter": "python",
   "pygments_lexer": "ipython3",
   "version": "3.9.7"
  }
 },
 "nbformat": 4,
 "nbformat_minor": 5
}
