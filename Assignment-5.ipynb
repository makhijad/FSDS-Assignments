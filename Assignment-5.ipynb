{
 "cells": [
  {
   "cell_type": "markdown",
   "id": "110cec0f",
   "metadata": {},
   "source": [
    "# Assignment-5"
   ]
  },
  {
   "cell_type": "code",
   "execution_count": null,
   "id": "987efd33",
   "metadata": {},
   "outputs": [],
   "source": []
  },
  {
   "cell_type": "code",
   "execution_count": 3,
   "id": "006e8a08",
   "metadata": {},
   "outputs": [],
   "source": [
    "# Q1. What does an empty dictionary's code look like?\n",
    "\n",
    "d={}"
   ]
  },
  {
   "cell_type": "code",
   "execution_count": null,
   "id": "076c9ea1",
   "metadata": {},
   "outputs": [],
   "source": []
  },
  {
   "cell_type": "code",
   "execution_count": 17,
   "id": "28f21301",
   "metadata": {},
   "outputs": [],
   "source": [
    "# Q2. What is the value of a dictionary value with the key 'foo' and the value 42?\n",
    "\n",
    "d={'foo':42}"
   ]
  },
  {
   "cell_type": "code",
   "execution_count": null,
   "id": "99c5d47c",
   "metadata": {},
   "outputs": [],
   "source": []
  },
  {
   "cell_type": "code",
   "execution_count": null,
   "id": "47d2a18a",
   "metadata": {},
   "outputs": [],
   "source": [
    "# Q3. What is the most significant distinction between a dictionary and a list?\n",
    "\n",
    "A Dictionary is always declared within curly braces {}... The items stored in Dictionary are unordered\n",
    "A List is always declared within square braces []..  The items in a list are ordered"
   ]
  },
  {
   "cell_type": "code",
   "execution_count": null,
   "id": "d05fc378",
   "metadata": {},
   "outputs": [],
   "source": []
  },
  {
   "cell_type": "code",
   "execution_count": 18,
   "id": "3e253d36",
   "metadata": {},
   "outputs": [],
   "source": [
    "# Q4. What happens if you try to access spam['foo'] if spam is {'bar': 100}?\n",
    "\n",
    "spam={'bar':100}"
   ]
  },
  {
   "cell_type": "code",
   "execution_count": 23,
   "id": "22c7dd9e",
   "metadata": {},
   "outputs": [
    {
     "ename": "KeyError",
     "evalue": "'foo'",
     "output_type": "error",
     "traceback": [
      "\u001b[1;31m---------------------------------------------------------------------------\u001b[0m",
      "\u001b[1;31mKeyError\u001b[0m                                  Traceback (most recent call last)",
      "\u001b[1;32m~\\AppData\\Local\\Temp/ipykernel_16112/3999281786.py\u001b[0m in \u001b[0;36m<module>\u001b[1;34m\u001b[0m\n\u001b[1;32m----> 1\u001b[1;33m \u001b[0mspam\u001b[0m\u001b[1;33m[\u001b[0m\u001b[1;34m'foo'\u001b[0m\u001b[1;33m]\u001b[0m\u001b[1;33m\u001b[0m\u001b[1;33m\u001b[0m\u001b[0m\n\u001b[0m",
      "\u001b[1;31mKeyError\u001b[0m: 'foo'"
     ]
    }
   ],
   "source": [
    "spam['foo']          # you get a KeyError error..."
   ]
  },
  {
   "cell_type": "code",
   "execution_count": null,
   "id": "9d7ee903",
   "metadata": {},
   "outputs": [],
   "source": []
  },
  {
   "cell_type": "code",
   "execution_count": 24,
   "id": "5327fe28",
   "metadata": {},
   "outputs": [],
   "source": [
    "# Q5. If a dictionary is stored in spam, what is the difference between the expressions 'cat' in spam and 'cat' in spam.keys()?\n",
    "\n",
    "There is no difference. The in operator checks whether a value exists as a key in the dictionary."
   ]
  },
  {
   "cell_type": "code",
   "execution_count": null,
   "id": "e3c48f3c",
   "metadata": {},
   "outputs": [],
   "source": []
  },
  {
   "cell_type": "code",
   "execution_count": 30,
   "id": "628a9cf1",
   "metadata": {},
   "outputs": [],
   "source": [
    "# Q6. If a dictionary is stored in spam, what is the difference between the expressions 'cat' in spam and 'cat' in spam.values()?\n",
    "\n",
    "'cat' in spam checks whether there is a 'cat' key in the dictionary, \n",
    "while 'cat' in spam.values() checks whether there is a value 'cat' for one of the keys in spam."
   ]
  },
  {
   "cell_type": "code",
   "execution_count": null,
   "id": "75c3ba24",
   "metadata": {},
   "outputs": [],
   "source": []
  },
  {
   "cell_type": "code",
   "execution_count": 36,
   "id": "0603d91e",
   "metadata": {},
   "outputs": [
    {
     "data": {
      "text/plain": [
       "'black'"
      ]
     },
     "execution_count": 36,
     "metadata": {},
     "output_type": "execute_result"
    }
   ],
   "source": [
    "# Q7. What is a shortcut for the following code?\n",
    "\n",
    "if 'color' not in spam:\n",
    "    spam['color']='black'\n",
    "\n",
    "# Ans: \n",
    "spam.setdefault('color', 'black')"
   ]
  },
  {
   "cell_type": "code",
   "execution_count": null,
   "id": "e0f8a74c",
   "metadata": {},
   "outputs": [],
   "source": []
  },
  {
   "cell_type": "code",
   "execution_count": 32,
   "id": "8720cadc",
   "metadata": {},
   "outputs": [],
   "source": [
    "# Q8. How do you \"pretty print\" dictionary values using which module and function?\n",
    "\n"
   ]
  },
  {
   "cell_type": "code",
   "execution_count": null,
   "id": "88ca0ec9",
   "metadata": {},
   "outputs": [],
   "source": []
  }
 ],
 "metadata": {
  "kernelspec": {
   "display_name": "Python 3 (ipykernel)",
   "language": "python",
   "name": "python3"
  },
  "language_info": {
   "codemirror_mode": {
    "name": "ipython",
    "version": 3
   },
   "file_extension": ".py",
   "mimetype": "text/x-python",
   "name": "python",
   "nbconvert_exporter": "python",
   "pygments_lexer": "ipython3",
   "version": "3.9.7"
  }
 },
 "nbformat": 4,
 "nbformat_minor": 5
}
