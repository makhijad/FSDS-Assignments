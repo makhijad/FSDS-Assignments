{
 "cells": [
  {
   "cell_type": "markdown",
   "id": "f7f44533",
   "metadata": {},
   "source": [
    "Q1. What are escape characters, and how do you use them?\n",
    "\n",
    "--> Escape characters in Python are special characters that are used to represent characters that are difficult to include directly in a string.\n",
    "These characters are preceded by a backslash \"\\\", which tells Python to treat the character following the backslash in a special way.\n",
    "Escape characters are used to include characters like newline, tab, quotes, and other special characters in strings."
   ]
  },
  {
   "cell_type": "markdown",
   "id": "9b3e0b2a",
   "metadata": {},
   "source": [
    "Q2. What do the escape characters n and t stand for?\n",
    "\n",
    "--> '\\n': Represents a newline character. It is used to create a new line within a string.\n",
    "ex : print(\"Hello,\\nWorld!\") \n",
    "#Output : \n",
    "    Hello \n",
    "    World!\n",
    "    \n",
    "  '\\t': Represents a tab character. It is used to insert a tab space within a string.\n",
    "ex: print(\"Hello,\\tWorld!\")\n",
    "#Output :\n",
    "    Hello      World!  "
   ]
  },
  {
   "cell_type": "markdown",
   "id": "fd5eb291",
   "metadata": {},
   "source": [
    "Q3. What is the way to include backslash characters in a string?\n",
    "\n",
    "--> To include a backslash character (\\) in a string in Python, you need to escape it by using another backslash.\n",
    "You can include a literal backslash by using two backslashes (\\\\) in your string. "
   ]
  },
  {
   "cell_type": "markdown",
   "id": "f5530282",
   "metadata": {},
   "source": [
    "Q4. The string \"Howl's Moving Castle\" is a correct value. Why isn't the single quote character in the\n",
    "word Howl's not escaped a problem?\n",
    "\n",
    "--> In Python, you can create strings using either single quotes ('), double quotes (\"), or triple quotes (''') or (\"\"\").\n",
    "As long as you start and end the string with the same type of quote, you can include the other type of quote within the string without any issues. In this case, the string is enclosed in double quotes, so you can use single quotes within the string without needing to escape them"
   ]
  },
  {
   "cell_type": "markdown",
   "id": "fb95d2b5",
   "metadata": {},
   "source": [
    "Q5. How do you write a string of newlines if you don&#39;t want to use the n character?\n",
    "\n",
    "--> If you want to write a string with multiple newlines without using the \\n character for line breaks, you can achieve this by using triple quotes (''' or \"\"\") to create a multi-line string"
   ]
  },
  {
   "cell_type": "markdown",
   "id": "179c220f",
   "metadata": {},
   "source": [
    "Q6. What are the values of the given expressions?\n",
    "'Hello, world!'[1]\n",
    "'Hello, world!'[0:5]\n",
    "'Hello, world!'[:5]\n",
    "'Hello, world!'[3:]\n",
    "\n",
    "--> 'Hello, world!'[1] -> 'e'\n",
    "    'Hello, world!'[0:5] -> 'Hello'\n",
    "    'Hello, world!'[:5] -> 'Hello'\n",
    "    'Hello, world!'[3:] -> 'lo, world!'"
   ]
  },
  {
   "cell_type": "markdown",
   "id": "5788e2e1",
   "metadata": {},
   "source": [
    "Q7.What are the values of the following expressions?\n",
    "'Hello'.upper()\n",
    "'Hello'.upper().isupper()\n",
    "'Hello'.upper().lower()\n",
    "\n",
    "--> 'Hello'.upper() -> 'HELLO'\n",
    "    'Hello'.upper().isupper() -> True\n",
    "    'Hello'.upper().lower() -> 'hello'"
   ]
  },
  {
   "cell_type": "markdown",
   "id": "5c14c751",
   "metadata": {},
   "source": [
    "Q8. What are the values of the following expressions?\n",
    "'Remember, remember, the fifth of July.'.split()\n",
    "'-'.join('There can only one.'.split())\n",
    "\n",
    "--> 'Remember, remember, the fifth of July.'.split() -> ['Remember,', 'remember,', 'the', 'fifth', 'of', 'July.']\n",
    "    '-'.join('There can only one.'.split()) -> 'There-can-only-one.'"
   ]
  },
  {
   "cell_type": "markdown",
   "id": "a6072d17",
   "metadata": {},
   "source": [
    "Q9. What are the methods for right-justifying, left-justifying, and centering a string?\n",
    "\n",
    "--> Right-Justify: The str.rjust(width, fillchar) method is used to right-justify a string within a given width.\n",
    "    Left-Justify: The str.ljust(width, fillchar) method is used to left-justify a string within a given width.\n",
    "    Center: The str.center(width, fillchar) method is used to center a string within a given width."
   ]
  },
  {
   "cell_type": "markdown",
   "id": "d7bcf176",
   "metadata": {},
   "source": [
    "Q10. What is the best way to remove whitespace characters from the start or end?\n",
    "\n",
    "--> str.strip(): This method removes leading and trailing whitespace characters from a string.\n",
    "    str.lstrip(): This method removes only leading (left) whitespace characters from a string.\n",
    "    str.rstrip(): This method removes only trailing (right) whitespace characters from a string. "
   ]
  },
  {
   "cell_type": "code",
   "execution_count": null,
   "id": "5d2a6a2e",
   "metadata": {},
   "outputs": [],
   "source": []
  },
  {
   "cell_type": "code",
   "execution_count": null,
   "id": "7bbbad49",
   "metadata": {},
   "outputs": [],
   "source": []
  }
 ],
 "metadata": {
  "kernelspec": {
   "display_name": "Python 3 (ipykernel)",
   "language": "python",
   "name": "python3"
  },
  "language_info": {
   "codemirror_mode": {
    "name": "ipython",
    "version": 3
   },
   "file_extension": ".py",
   "mimetype": "text/x-python",
   "name": "python",
   "nbconvert_exporter": "python",
   "pygments_lexer": "ipython3",
   "version": "3.11.4"
  }
 },
 "nbformat": 4,
 "nbformat_minor": 5
}
