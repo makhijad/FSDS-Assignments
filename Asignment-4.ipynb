{
 "cells": [
  {
   "cell_type": "markdown",
   "id": "fa4102b5",
   "metadata": {},
   "source": [
    "# Assignment-4"
   ]
  },
  {
   "cell_type": "code",
   "execution_count": null,
   "id": "bb6299f1",
   "metadata": {},
   "outputs": [],
   "source": []
  },
  {
   "cell_type": "code",
   "execution_count": null,
   "id": "2cfb43eb",
   "metadata": {},
   "outputs": [],
   "source": [
    "# Q1. What exactly is []?\n",
    "\n",
    "It is a notation to denote List i.e a Empty List"
   ]
  },
  {
   "cell_type": "code",
   "execution_count": 29,
   "id": "a8733fbd",
   "metadata": {},
   "outputs": [],
   "source": [
    "# Q2. In a list of values stored in a variable called spam, how would you assign the value \"hello\" as the third value? (Assume [2, 4, 6, 8, 10] are in spam.)\n",
    "\n",
    "spam=[2,4,6,8,10]\n"
   ]
  },
  {
   "cell_type": "code",
   "execution_count": 30,
   "id": "b767e7ed",
   "metadata": {},
   "outputs": [
    {
     "data": {
      "text/plain": [
       "[2, 4, 6, 8, 10]"
      ]
     },
     "execution_count": 30,
     "metadata": {},
     "output_type": "execute_result"
    }
   ],
   "source": [
    "spam"
   ]
  },
  {
   "cell_type": "code",
   "execution_count": 31,
   "id": "3f2cf0ce",
   "metadata": {},
   "outputs": [],
   "source": [
    "spam.insert(2,\"hello\")"
   ]
  },
  {
   "cell_type": "code",
   "execution_count": 32,
   "id": "eece91d9",
   "metadata": {},
   "outputs": [
    {
     "data": {
      "text/plain": [
       "[2, 4, 'hello', 6, 8, 10]"
      ]
     },
     "execution_count": 32,
     "metadata": {},
     "output_type": "execute_result"
    }
   ],
   "source": [
    "spam"
   ]
  },
  {
   "cell_type": "code",
   "execution_count": null,
   "id": "8ad6ad89",
   "metadata": {},
   "outputs": [],
   "source": []
  },
  {
   "cell_type": "code",
   "execution_count": 36,
   "id": "9aa2d091",
   "metadata": {},
   "outputs": [
    {
     "data": {
      "text/plain": [
       "6"
      ]
     },
     "execution_count": 36,
     "metadata": {},
     "output_type": "execute_result"
    }
   ],
   "source": [
    "# Q3. What is the value of spam[int(int('3' * 2) / 11)]?\n",
    "\n",
    "spam[int(int('3' * 2) / 11)]   ...  # here the value of spam is 6"
   ]
  },
  {
   "cell_type": "code",
   "execution_count": null,
   "id": "f3b986c4",
   "metadata": {},
   "outputs": [],
   "source": []
  },
  {
   "cell_type": "code",
   "execution_count": 39,
   "id": "48cfadbb",
   "metadata": {},
   "outputs": [],
   "source": [
    "# Q4. What is the value of spam[-1]?\n",
    "\n",
    "spam=['a','b','c','d']"
   ]
  },
  {
   "cell_type": "code",
   "execution_count": 40,
   "id": "c4cd2dd0",
   "metadata": {},
   "outputs": [
    {
     "data": {
      "text/plain": [
       "['a', 'b', 'c', 'd']"
      ]
     },
     "execution_count": 40,
     "metadata": {},
     "output_type": "execute_result"
    }
   ],
   "source": [
    "spam"
   ]
  },
  {
   "cell_type": "code",
   "execution_count": 56,
   "id": "f9dfb747",
   "metadata": {},
   "outputs": [
    {
     "data": {
      "text/plain": [
       "'d'"
      ]
     },
     "execution_count": 56,
     "metadata": {},
     "output_type": "execute_result"
    }
   ],
   "source": [
    "spam[-1]     # here -1 will give the reverse value"
   ]
  },
  {
   "cell_type": "code",
   "execution_count": null,
   "id": "dc4fb20e",
   "metadata": {},
   "outputs": [],
   "source": []
  },
  {
   "cell_type": "code",
   "execution_count": 64,
   "id": "6f2650c2",
   "metadata": {},
   "outputs": [
    {
     "data": {
      "text/plain": [
       "['a', 'b']"
      ]
     },
     "execution_count": 64,
     "metadata": {},
     "output_type": "execute_result"
    }
   ],
   "source": [
    "# Q5. What is the value of spam[:2]?\n",
    "    \n",
    "spam[:2]         # here it will give first two elements from list"
   ]
  },
  {
   "cell_type": "code",
   "execution_count": null,
   "id": "fefbd2aa",
   "metadata": {},
   "outputs": [],
   "source": []
  },
  {
   "cell_type": "code",
   "execution_count": 76,
   "id": "9f4b23cd",
   "metadata": {},
   "outputs": [],
   "source": [
    "# Let's pretend bacon has the list [3.14, 'cat', 11, 'cat', True] for the next three questions.\n",
    "\n",
    "# Q6. What is the value of bacon.index('cat')?\n",
    "\n",
    "bacon=[3.14, 'cat', 11, 'cat', True]"
   ]
  },
  {
   "cell_type": "code",
   "execution_count": 77,
   "id": "368b46c1",
   "metadata": {},
   "outputs": [
    {
     "data": {
      "text/plain": [
       "1"
      ]
     },
     "execution_count": 77,
     "metadata": {},
     "output_type": "execute_result"
    }
   ],
   "source": [
    "bacon.index('cat')     # index function shows the index for each element in list"
   ]
  },
  {
   "cell_type": "code",
   "execution_count": null,
   "id": "d8434df3",
   "metadata": {},
   "outputs": [],
   "source": []
  },
  {
   "cell_type": "code",
   "execution_count": 78,
   "id": "fd6d34b0",
   "metadata": {},
   "outputs": [],
   "source": [
    "# Q7. How does bacon.append(99) change the look of the list value in bacon?\n",
    "\n",
    "bacon.append(99)    # append function will appen/add a new value to a list at the end of the list"
   ]
  },
  {
   "cell_type": "code",
   "execution_count": 79,
   "id": "d00f5318",
   "metadata": {},
   "outputs": [
    {
     "data": {
      "text/plain": [
       "[3.14, 'cat', 11, 'cat', True, 99]"
      ]
     },
     "execution_count": 79,
     "metadata": {},
     "output_type": "execute_result"
    }
   ],
   "source": [
    "bacon"
   ]
  },
  {
   "cell_type": "code",
   "execution_count": null,
   "id": "8d0904b6",
   "metadata": {},
   "outputs": [],
   "source": []
  },
  {
   "cell_type": "code",
   "execution_count": 80,
   "id": "9e3a2e43",
   "metadata": {},
   "outputs": [],
   "source": [
    "# Q8. How does bacon.remove('cat') change the look of the list in bacon?\n",
    "                         \n",
    "bacon.remove('cat')    \n",
    "    # remove function will remove/delete the specific element from list.. the firstmost index cat element is removed from list if there are two same eleements in the list."
   ]
  },
  {
   "cell_type": "code",
   "execution_count": 81,
   "id": "e2696ba5",
   "metadata": {},
   "outputs": [
    {
     "data": {
      "text/plain": [
       "[3.14, 11, 'cat', True, 99]"
      ]
     },
     "execution_count": 81,
     "metadata": {},
     "output_type": "execute_result"
    }
   ],
   "source": [
    "bacon"
   ]
  },
  {
   "cell_type": "code",
   "execution_count": null,
   "id": "544cb1d4",
   "metadata": {},
   "outputs": [],
   "source": []
  },
  {
   "cell_type": "code",
   "execution_count": null,
   "id": "a726c177",
   "metadata": {},
   "outputs": [],
   "source": [
    "# Q9. What are the list concatenation and list replication operators?\n",
    "\n",
    "The operator for list concatenation is + and the operator for list replication is *"
   ]
  },
  {
   "cell_type": "code",
   "execution_count": null,
   "id": "0f71b4c3",
   "metadata": {},
   "outputs": [],
   "source": []
  },
  {
   "cell_type": "code",
   "execution_count": null,
   "id": "ae05144e",
   "metadata": {},
   "outputs": [],
   "source": [
    "# Q10. What is difference between the list methods append() and insert()?\n",
    "\n",
    "list.append() will always add the value into the list at last position \n",
    "list.insert() will always add the value into the list on specific position/index."
   ]
  },
  {
   "cell_type": "code",
   "execution_count": null,
   "id": "89f92d1c",
   "metadata": {},
   "outputs": [],
   "source": []
  },
  {
   "cell_type": "code",
   "execution_count": 89,
   "id": "e51aeaee",
   "metadata": {},
   "outputs": [],
   "source": [
    "# Q11. What are the two methods for removing items from a list?\n",
    "\n",
    "list.remove() will remove specific element from list\n",
    "list.clear() will remove all elements from list"
   ]
  },
  {
   "cell_type": "code",
   "execution_count": null,
   "id": "63a63dab",
   "metadata": {},
   "outputs": [],
   "source": []
  },
  {
   "cell_type": "code",
   "execution_count": null,
   "id": "436ba324",
   "metadata": {},
   "outputs": [],
   "source": [
    "# Q12. Describe how list values and string values are identical.\n",
    "\n",
    "list values are identical as [] Square braces & \n",
    "string values are identical as \" \" Double or ' ' single quotes"
   ]
  },
  {
   "cell_type": "code",
   "execution_count": null,
   "id": "3ec61a8c",
   "metadata": {},
   "outputs": [],
   "source": []
  },
  {
   "cell_type": "code",
   "execution_count": null,
   "id": "78daa0e7",
   "metadata": {},
   "outputs": [],
   "source": [
    "# Q13. What's the difference between tuples and lists?\n",
    "\n",
    "Tuple values are identical as () simple braces. Tuples are immutable & they cannot be changed at all..\n",
    "List values are identical as [] Square braces. Lists are mutable & they can have values added, removed, or changed.."
   ]
  },
  {
   "cell_type": "code",
   "execution_count": null,
   "id": "4518e589",
   "metadata": {},
   "outputs": [],
   "source": []
  },
  {
   "cell_type": "code",
   "execution_count": 104,
   "id": "181c2456",
   "metadata": {},
   "outputs": [],
   "source": [
    "# Q14. How do you type a tuple value that only contains the integer 42?\n",
    "\n",
    "t=(42,)        # using trailing comma we created a tuple with single element 42.."
   ]
  },
  {
   "cell_type": "code",
   "execution_count": 105,
   "id": "4b0454b6",
   "metadata": {},
   "outputs": [
    {
     "data": {
      "text/plain": [
       "tuple"
      ]
     },
     "execution_count": 105,
     "metadata": {},
     "output_type": "execute_result"
    }
   ],
   "source": [
    "type(t)"
   ]
  },
  {
   "cell_type": "code",
   "execution_count": null,
   "id": "7c70a4d1",
   "metadata": {},
   "outputs": [],
   "source": []
  },
  {
   "cell_type": "code",
   "execution_count": null,
   "id": "893b3f82",
   "metadata": {},
   "outputs": [],
   "source": [
    "# Q15. How do you get a list value's tuple form? How do you get a tuple value's list form?\n",
    "\n"
   ]
  },
  {
   "cell_type": "code",
   "execution_count": null,
   "id": "95d169e8",
   "metadata": {},
   "outputs": [],
   "source": []
  },
  {
   "cell_type": "code",
   "execution_count": null,
   "id": "965d3ea1",
   "metadata": {},
   "outputs": [],
   "source": [
    "# Q16. Variables that \"contain\" list values are not necessarily lists themselves. Instead, what do they contain?\n",
    "\n",
    "They contain references to list values."
   ]
  },
  {
   "cell_type": "code",
   "execution_count": null,
   "id": "ade288e7",
   "metadata": {},
   "outputs": [],
   "source": []
  },
  {
   "cell_type": "code",
   "execution_count": null,
   "id": "1ed984fe",
   "metadata": {},
   "outputs": [],
   "source": [
    "17. How do you distinguish between copy.copy() and copy.deepcopy()?\n",
    "\n",
    "copy.copy() function will do a shallow copy of a list\n",
    "copy.deepcopy() will duplicate any lists inside the list."
   ]
  },
  {
   "cell_type": "code",
   "execution_count": null,
   "id": "d260f451",
   "metadata": {},
   "outputs": [],
   "source": []
  },
  {
   "cell_type": "code",
   "execution_count": null,
   "id": "1b506d37",
   "metadata": {},
   "outputs": [],
   "source": []
  }
 ],
 "metadata": {
  "kernelspec": {
   "display_name": "Python 3 (ipykernel)",
   "language": "python",
   "name": "python3"
  },
  "language_info": {
   "codemirror_mode": {
    "name": "ipython",
    "version": 3
   },
   "file_extension": ".py",
   "mimetype": "text/x-python",
   "name": "python",
   "nbconvert_exporter": "python",
   "pygments_lexer": "ipython3",
   "version": "3.9.7"
  }
 },
 "nbformat": 4,
 "nbformat_minor": 5
}
